{
 "cells": [
  {
   "cell_type": "markdown",
   "id": "591bde7c-0d08-4914-9ebe-616e24f11353",
   "metadata": {},
   "source": [
    "Q1. Pearson correlation coefficient is a measure of the linear relationship between two variables. Suppose\n",
    "you have collected data on the amount of time students spend studying for an exam and their final exam\n",
    "scores. Calculate the Pearson correlation coefficient between these two variables and interpret the result."
   ]
  },
  {
   "cell_type": "markdown",
   "id": "95befdd1-f4b8-4744-9c54-cdc7bc811a7a",
   "metadata": {},
   "source": [
    "To calculate the Pearson correlation coefficient between two variables, you can follow these steps:\n",
    "\n",
    "1)Organize your data: Make sure you have a dataset that includes the amount of time students spend studying for an exam and their final exam scores. Let's denote these two variables as X (study time) and Y (exam scores).\n",
    "\n",
    "2)Calculate the means: Find the mean (average) of both X and Y. You can denote these as X̄ and Ȳ.\n",
    "\n",
    "3)Calculate the standard deviations: Find the standard deviation of X (denoted as σX) and the standard deviation of Y (denoted as σY).\n",
    "\n",
    "4)Calculate the covariance: Compute the covariance between X and Y, which is denoted as Cov(X, Y).\n",
    "\n",
    "5)Calculate the Pearson correlation coefficient (r): Use the formula for the Pearson correlation coefficient:\n",
    "\n",
    "[r = \\frac{Cov(X, Y)}{σX * σY}]\n",
    "\n",
    "6)Interpret the result:\n",
    "  -If r is close to +1, it indicates a strong positive linear relationship. This means that as the amount of time spent      studying increases, final exam scores tend to increase as well.\n",
    "  -If r is close to -1, it indicates a strong negative linear relationship. This means that as the amount of time spent      studying increases, final exam scores tend to decrease.\n",
    "  -If r is close to 0, it indicates a weak or no linear relationship. In other words, there is little to no correlation      between study time and exam scores.\n",
    "\n",
    "The Pearson correlation coefficient ranges from -1 to +1. A value of 0 indicates no linear correlation, while values closer to -1 or +1 indicate stronger linear relationships."
   ]
  },
  {
   "cell_type": "code",
   "execution_count": null,
   "id": "165aca90-9846-4ab5-888b-81cd062e9b4c",
   "metadata": {},
   "outputs": [],
   "source": []
  },
  {
   "cell_type": "markdown",
   "id": "f20f38b6-739d-4e55-98c8-f81605227995",
   "metadata": {},
   "source": [
    "Q2. Spearman's rank correlation is a measure of the monotonic relationship between two variables.\n",
    "Suppose you have collected data on the amount of sleep individuals get each night and their overall job\n",
    "satisfaction level on a scale of 1 to 10. Calculate the Spearman's rank correlation between these two\n",
    "variables and interpret the result."
   ]
  },
  {
   "cell_type": "markdown",
   "id": "a2d57012-6c81-4978-8015-d2f98327b754",
   "metadata": {},
   "source": [
    "Spearman's rank correlation coefficient, denoted as ρ (rho), is used to measure the strength and direction of a monotonic relationship between two variables. Monotonic relationships are those where the variables tend to move in the same direction (either both increasing or both decreasing), but not necessarily at a constant rate as in linear relationships.\n",
    "\n",
    "To calculate Spearman's rank correlation coefficient, follow these steps:\n",
    "\n",
    "1)Organize your data: Collect data on the amount of sleep individuals get each night (variable X) and their overall job satisfaction level on a scale of 1 to 10 (variable Y).\n",
    "\n",
    "2)Rank the data: Assign ranks to the values of both variables separately. For example, rank the sleep data from lowest to highest and rank the job satisfaction data from lowest to highest.\n",
    "\n",
    "3)Calculate the differences in ranks: Find the difference between the ranks for each pair of data points and square the differences.\n",
    "\n",
    "4)Calculate the Spearman's rank correlation coefficient (ρ):\n",
    "\n",
    "[ρ = 1 - \\frac{6 * Σ(d^2)}{n(n^2 - 1)}]\n",
    "\n",
    "(d) represents the differences in ranks for each pair of data points.\n",
    "(n) is the number of data points.\n",
    "\n",
    "5)Interpret the result:\n",
    "  -If ρ is close to +1, it indicates a strong positive monotonic relationship. This means that as the amount of sleep        individuals get each night increases, their job satisfaction tends to increase.\n",
    "  -If ρ is close to -1, it indicates a strong negative monotonic relationship. This means that as the amount of sleep        individuals get each night increases, their job satisfaction tends to decrease.\n",
    "  -If ρ is close to 0, it suggests a weak or no monotonic relationship between the two variables.\n",
    "\n",
    "Spearman's rank correlation is less sensitive to outliers and non-linear relationships compared to the Pearson correlation coefficient, which makes it a good choice when dealing with ordinal or non-normally distributed data."
   ]
  },
  {
   "cell_type": "code",
   "execution_count": null,
   "id": "1df0e6e2-3665-4a55-b735-e3be89b1a0fc",
   "metadata": {},
   "outputs": [],
   "source": []
  },
  {
   "cell_type": "markdown",
   "id": "db95209e-8ac5-4a05-bdeb-a9de07381da9",
   "metadata": {},
   "source": [
    "Q3. Suppose you are conducting a study to examine the relationship between the number of hours of\n",
    "exercise per week and body mass index (BMI) in a sample of adults. You collected data on both variables\n",
    "for 50 participants. Calculate the Pearson correlation coefficient and the Spearman's rank correlation\n",
    "between these two variables and compare the results."
   ]
  },
  {
   "cell_type": "markdown",
   "id": "08d0eacd-f485-4a0a-8f09-b99812d56101",
   "metadata": {},
   "source": [
    "Step-by-Step Calculation\n",
    "\n",
    "1. Pearson Correlation Coefficient\n",
    "\n",
    "Assuming you have the following sample data:\n",
    "  -hours_of_exercise: [2, 4, 6, 8, 10, ...] (50 values)\n",
    "  -BMI: [25, 22, 20, 19, 18, ...] (50 values)\n",
    "\n",
    "Here is a Python example of how to calculate Pearson correlation:\n",
    "\n",
    "import numpy as np\n",
    "\n",
    "# Sample data\n",
    "hours_of_exercise = np.array([2, 4, 6, 8, 10, ...])  # 50 values\n",
    "BMI = np.array([25, 22, 20, 19, 18, ...])  # 50 values\n",
    "\n",
    "# Calculate Pearson correlation coefficient\n",
    "pearson_corr = np.corrcoef(hours_of_exercise, BMI)[0, 1]\n",
    "print(\"Pearson Correlation Coefficient:\", pearson_corr)\n",
    "\n",
    "2. Spearman's Rank Correlation\n",
    "To calculate Spearman's rank correlation:\n",
    "\n",
    "from scipy.stats import spearmanr\n",
    "\n",
    "# Sample data\n",
    "hours_of_exercise = np.array([2, 4, 6, 8, 10, ...])  # 50 values\n",
    "BMI = np.array([25, 22, 20, 19, 18, ...])  # 50 values\n",
    "\n",
    "# Calculate Spearman's rank correlation coefficient\n",
    "spearman_corr, _ = spearmanr(hours_of_exercise, BMI)\n",
    "print(\"Spearman's Rank Correlation Coefficient:\", spearman_corr)\n",
    "\n",
    "Comparison\n",
    "\n",
    "1)Pearson Correlation Coefficient: Measures linear relationships. A value close to 1 or -1 indicates a strong linear relationship, while a value close to 0 indicates little to no linear relationship.\n",
    "2)Spearman's Rank Correlation: Measures monotonic relationships (both linear and non-linear). A value close to 1 or -1 indicates a strong monotonic relationship, while a value close to 0 indicates little to no monotonic relationship.\n",
    "\n",
    "In Summary:\n",
    "\n",
    "1)Pearson: Best for linear relationships.\n",
    "2)Spearman: Best for monotonic relationships, including non-linear but consistent trends.\n",
    "\n",
    "You will need the actual data to compute these correlations and compare them accurately. The results will show how closely the two variables are related, either linearly (Pearson) or monotonically (Spearman).\n",
    "\n",
    "\n",
    "\n",
    "\n",
    "\n",
    "\n",
    "\n",
    "\n",
    "\n"
   ]
  },
  {
   "cell_type": "code",
   "execution_count": null,
   "id": "aa40e93c-97d5-4624-b308-838953146a8c",
   "metadata": {},
   "outputs": [],
   "source": []
  },
  {
   "cell_type": "markdown",
   "id": "5d186cec-ad15-4465-89ea-8e2f9016ffe3",
   "metadata": {},
   "source": [
    "Q4. A researcher is interested in examining the relationship between the number of hours individuals\n",
    "spend watching television per day and their level of physical activity. The researcher collected data on\n",
    "both variables from a sample of 50 participants. Calculate the Pearson correlation coefficient between\n",
    "these two variables."
   ]
  },
  {
   "cell_type": "markdown",
   "id": "9e7dd5b3-c508-4b73-bb19-04ec9c999a7c",
   "metadata": {},
   "source": [
    "To calculate the Pearson correlation coefficient (r) between the number of hours individuals spend watching television per day and their level of physical activity, you can follow these steps:\n",
    "\n",
    "Step 1: Organize your data\n",
    "You have data on two variables for 50 participants:\n",
    "\n",
    "X: Number of hours individuals spend watching television per day\n",
    "Y: Level of physical activity (which can be measured in various ways, such as minutes of exercise per day, steps taken, or an activity index)\n",
    "\n",
    "Step 2: Calculate the means\n",
    "Calculate the mean (average) of both X and Y. Denote these means as X̄ and Ȳ.\n",
    "\n",
    "Step 3: Calculate the standard deviations\n",
    "Calculate the standard deviation of X (denoted as σX) and the standard deviation of Y (denoted as σY).\n",
    "\n",
    "Step 4: Calculate the covariance\n",
    "Compute the covariance between X and Y, which is denoted as Cov(X, Y).\n",
    "\n",
    "Step 5: Calculate the Pearson correlation coefficient (r)\n",
    "Use the formula for the Pearson correlation coefficient:\n",
    "\n",
    "[r = \\frac{Cov(X, Y)}{σX * σY}]\n",
    "\n",
    "Substitute the values you calculated in steps 2, 3, and 4 into the formula to compute r.\n",
    "\n",
    "Step 6: Interpret the result\n",
    "  -If the calculated r is close to +1, it indicates a strong positive linear relationship. This means that as the number    of hours individuals spend watching television per day increases, their level of physical activity tends to increase      as well.\n",
    "  -If r is close to -1, it indicates a strong negative linear relationship. This means that as the number of hours          individuals spend watching television per day increases, their level of physical activity tends to decrease.\n",
    "  -If r is close to 0, it suggests a weak or no linear relationship between the two variables, meaning that there is        little to no correlation between television watching and physical activity."
   ]
  },
  {
   "cell_type": "code",
   "execution_count": null,
   "id": "4bcb44be-4040-4924-b806-3dbf4f644c7d",
   "metadata": {},
   "outputs": [],
   "source": []
  },
  {
   "cell_type": "markdown",
   "id": "5b480796-5de8-45bf-a4f2-13290ff67824",
   "metadata": {},
   "source": [
    "Q6. A company is interested in examining the relationship between the number of sales calls made per day\n",
    "and the number of sales made per week. The company collected data on both variables from a sample of\n",
    "30 sales representatives. Calculate the Pearson correlation coefficient between these two variables."
   ]
  },
  {
   "cell_type": "markdown",
   "id": "6b091384-e84f-4669-9232-f16092f7914f",
   "metadata": {},
   "source": [
    "To calculate the Pearson correlation coefficient (r) between the number of sales calls made per day and the number of sales made per week for a sample of 30 sales representatives, you can follow these steps:\n",
    "\n",
    "Step 1: Organize your data\n",
    "\n",
    "You have data on two variables for 30 sales representatives:\n",
    "\n",
    "X: Number of sales calls made per day\n",
    "Y: Number of sales made per week\n",
    "Step 2: Calculate the means\n",
    "\n",
    "Calculate the mean (average) of both X and Y. Denote these means as X̄ and Ȳ.\n",
    "\n",
    "Step 3: Calculate the standard deviations\n",
    "\n",
    "Calculate the standard deviation of X (denoted as σX) and the standard deviation of Y (denoted as σY).\n",
    "\n",
    "Step 4: Calculate the covariance\n",
    "\n",
    "Compute the covariance between X and Y, which is denoted as Cov(X, Y).\n",
    "\n",
    "Step 5: Calculate the Pearson correlation coefficient (r)\n",
    "\n",
    "Use the formula for the Pearson correlation coefficient:\n",
    "\n",
    "[r = \\frac{Cov(X, Y)}{σX * σY}]\n",
    "\n",
    "Substitute the values you calculated in steps 2, 3, and 4 into the formula to compute r.\n",
    "\n",
    "Step 6: Interpret the result\n",
    "\n",
    "If the calculated r is close to +1, it indicates a strong positive linear relationship. This means that as the number of sales calls made per day increases, the number of sales made per week tends to increase as well, suggesting that more calls per day lead to more sales per week.\n",
    "\n",
    "If r is close to -1, it indicates a strong negative linear relationship. This would imply that as the number of sales calls made per day increases, the number of sales made per week tends to decrease, suggesting that too many calls might be counterproductive.\n",
    "\n",
    "If r is close to 0, it suggests a weak or no linear relationship between the two variables. In this case, the number of sales calls made per day may not have a significant impact on the number of sales made per week, at least in a linear sense."
   ]
  },
  {
   "cell_type": "code",
   "execution_count": null,
   "id": "548ec1ce-9af1-481d-aeb9-be50fef55228",
   "metadata": {},
   "outputs": [],
   "source": []
  },
  {
   "cell_type": "code",
   "execution_count": null,
   "id": "90408bd3-c947-44e7-be52-5f2c6adc610d",
   "metadata": {},
   "outputs": [],
   "source": []
  },
  {
   "cell_type": "code",
   "execution_count": null,
   "id": "6390148e-c75f-454e-9c7f-b18299a7d208",
   "metadata": {},
   "outputs": [],
   "source": []
  },
  {
   "cell_type": "code",
   "execution_count": null,
   "id": "0a700dc8-a1b7-4d43-8611-be0b0b6bd70b",
   "metadata": {},
   "outputs": [],
   "source": []
  },
  {
   "cell_type": "code",
   "execution_count": null,
   "id": "79b8ec32-fa37-48bc-b3e4-50c114685d3d",
   "metadata": {},
   "outputs": [],
   "source": []
  },
  {
   "cell_type": "code",
   "execution_count": null,
   "id": "e24327e7-be02-42e5-a002-5f5b0c6e936d",
   "metadata": {},
   "outputs": [],
   "source": []
  },
  {
   "cell_type": "code",
   "execution_count": null,
   "id": "333a79fc-4a6e-4e6b-8c1d-b86746413fa2",
   "metadata": {},
   "outputs": [],
   "source": []
  },
  {
   "cell_type": "code",
   "execution_count": null,
   "id": "2a5675f4-44fe-4967-bbeb-5ad562f10412",
   "metadata": {},
   "outputs": [],
   "source": []
  },
  {
   "cell_type": "code",
   "execution_count": null,
   "id": "cb1c47d3-4ea0-407a-8dbc-a216b1571323",
   "metadata": {},
   "outputs": [],
   "source": []
  },
  {
   "cell_type": "code",
   "execution_count": null,
   "id": "8f0622b8-7457-424f-a49c-f7abf755565e",
   "metadata": {},
   "outputs": [],
   "source": []
  },
  {
   "cell_type": "code",
   "execution_count": null,
   "id": "bef90496-7db1-4226-8315-4079231c48b8",
   "metadata": {},
   "outputs": [],
   "source": []
  },
  {
   "cell_type": "code",
   "execution_count": null,
   "id": "22649e3d-dfa3-4017-84f7-37b5101d6f64",
   "metadata": {},
   "outputs": [],
   "source": []
  },
  {
   "cell_type": "code",
   "execution_count": null,
   "id": "bba1da74-f5c9-4af1-b393-f03e93e469be",
   "metadata": {},
   "outputs": [],
   "source": []
  },
  {
   "cell_type": "code",
   "execution_count": null,
   "id": "c292799e-307f-43ab-8092-e156742bed5b",
   "metadata": {},
   "outputs": [],
   "source": []
  },
  {
   "cell_type": "code",
   "execution_count": null,
   "id": "8bf5c0d2-e7fc-4f9a-8f17-1064a8162cc4",
   "metadata": {},
   "outputs": [],
   "source": []
  },
  {
   "cell_type": "code",
   "execution_count": null,
   "id": "2157a32f-9a56-4f80-8f62-dc03d7da21ff",
   "metadata": {},
   "outputs": [],
   "source": []
  },
  {
   "cell_type": "code",
   "execution_count": null,
   "id": "f4c5c092-528e-4518-be4d-049019ee93b2",
   "metadata": {},
   "outputs": [],
   "source": []
  },
  {
   "cell_type": "code",
   "execution_count": null,
   "id": "ff603cf4-d8c2-48fe-a34b-a673e67eff22",
   "metadata": {},
   "outputs": [],
   "source": []
  },
  {
   "cell_type": "code",
   "execution_count": null,
   "id": "2edead2a-7b9c-412c-ad25-230c52a3b9d0",
   "metadata": {},
   "outputs": [],
   "source": []
  },
  {
   "cell_type": "code",
   "execution_count": null,
   "id": "b20abde3-ffd1-4a5a-afdd-3db4effae91b",
   "metadata": {},
   "outputs": [],
   "source": []
  },
  {
   "cell_type": "code",
   "execution_count": null,
   "id": "628991b6-4946-4fa9-b27e-ba4ab604884a",
   "metadata": {},
   "outputs": [],
   "source": []
  },
  {
   "cell_type": "code",
   "execution_count": null,
   "id": "a89272cf-2a37-413c-9344-368728e77536",
   "metadata": {},
   "outputs": [],
   "source": []
  },
  {
   "cell_type": "code",
   "execution_count": null,
   "id": "b155f1bd-2587-4b83-803d-883972050ec5",
   "metadata": {},
   "outputs": [],
   "source": []
  },
  {
   "cell_type": "code",
   "execution_count": null,
   "id": "9e6c1faf-2ec5-41d5-99f7-679ae5ced2c6",
   "metadata": {},
   "outputs": [],
   "source": []
  },
  {
   "cell_type": "code",
   "execution_count": null,
   "id": "57374c9a-d143-42ab-8d26-636b13fcdc01",
   "metadata": {},
   "outputs": [],
   "source": []
  },
  {
   "cell_type": "code",
   "execution_count": null,
   "id": "7222967c-3623-433d-820e-945cbe7e66c7",
   "metadata": {},
   "outputs": [],
   "source": []
  },
  {
   "cell_type": "code",
   "execution_count": null,
   "id": "c48f831b-fcce-4e1a-9f54-84c8d4d11bfc",
   "metadata": {},
   "outputs": [],
   "source": []
  },
  {
   "cell_type": "code",
   "execution_count": null,
   "id": "a84912cb-5344-45f5-9964-2a55825dadcd",
   "metadata": {},
   "outputs": [],
   "source": []
  },
  {
   "cell_type": "code",
   "execution_count": null,
   "id": "4dcb1f41-f59b-4e4b-8aac-2e2bf4470880",
   "metadata": {},
   "outputs": [],
   "source": []
  },
  {
   "cell_type": "code",
   "execution_count": null,
   "id": "952002b4-1ef7-4f70-b031-db4ff875ba98",
   "metadata": {},
   "outputs": [],
   "source": []
  },
  {
   "cell_type": "code",
   "execution_count": null,
   "id": "07092fa5-2fd0-45d2-8b80-71de3eee4f2c",
   "metadata": {},
   "outputs": [],
   "source": []
  },
  {
   "cell_type": "code",
   "execution_count": null,
   "id": "e912414a-9705-4b90-a520-299d136bb487",
   "metadata": {},
   "outputs": [],
   "source": []
  },
  {
   "cell_type": "code",
   "execution_count": null,
   "id": "2e65bbcd-306d-409b-b71b-f6bf288201cc",
   "metadata": {},
   "outputs": [],
   "source": []
  },
  {
   "cell_type": "code",
   "execution_count": null,
   "id": "d834ba6a-2489-408a-bb12-1620b9cac995",
   "metadata": {},
   "outputs": [],
   "source": []
  },
  {
   "cell_type": "code",
   "execution_count": null,
   "id": "5ea3ca55-89c0-45c9-8662-e1a480ec5788",
   "metadata": {},
   "outputs": [],
   "source": []
  },
  {
   "cell_type": "code",
   "execution_count": null,
   "id": "8a3318c8-0776-43dd-8d94-e94a99478bf3",
   "metadata": {},
   "outputs": [],
   "source": []
  },
  {
   "cell_type": "code",
   "execution_count": null,
   "id": "0865d071-0f84-4eaf-9cfc-64aaf89d70fa",
   "metadata": {},
   "outputs": [],
   "source": []
  },
  {
   "cell_type": "code",
   "execution_count": null,
   "id": "26547969-6c02-4962-8e93-40624c4a222a",
   "metadata": {},
   "outputs": [],
   "source": []
  },
  {
   "cell_type": "code",
   "execution_count": null,
   "id": "fd35db8b-b2aa-4567-aadf-31c822461ab1",
   "metadata": {},
   "outputs": [],
   "source": []
  },
  {
   "cell_type": "code",
   "execution_count": null,
   "id": "3946759e-b2f3-4c44-953f-67a902990e03",
   "metadata": {},
   "outputs": [],
   "source": []
  },
  {
   "cell_type": "code",
   "execution_count": null,
   "id": "63ec3e0f-5213-4eac-8c41-3156fe71b3b7",
   "metadata": {},
   "outputs": [],
   "source": []
  }
 ],
 "metadata": {
  "kernelspec": {
   "display_name": "Python 3 (ipykernel)",
   "language": "python",
   "name": "python3"
  },
  "language_info": {
   "codemirror_mode": {
    "name": "ipython",
    "version": 3
   },
   "file_extension": ".py",
   "mimetype": "text/x-python",
   "name": "python",
   "nbconvert_exporter": "python",
   "pygments_lexer": "ipython3",
   "version": "3.10.8"
  }
 },
 "nbformat": 4,
 "nbformat_minor": 5
}
